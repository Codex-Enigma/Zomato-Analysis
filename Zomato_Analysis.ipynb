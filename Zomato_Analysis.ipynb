{
 "cells": [
  {
   "cell_type": "code",
   "execution_count": 1,
   "id": "dde21a2b-52a9-4480-8f92-ca2cfc9633d9",
   "metadata": {
    "tags": []
   },
   "outputs": [],
   "source": [
    "import pandas as pd"
   ]
  },
  {
   "cell_type": "code",
   "execution_count": 2,
   "id": "66b4259a-fb3f-477a-ba22-2350b83be0a4",
   "metadata": {
    "tags": []
   },
   "outputs": [],
   "source": [
    "df = pd.read_csv(\"Zomato_Final_Data.csv\")"
   ]
  },
  {
   "cell_type": "code",
   "execution_count": 4,
   "id": "f1422a9e-586e-49b3-991f-1d01223b435f",
   "metadata": {
    "tags": []
   },
   "outputs": [
    {
     "data": {
      "text/plain": [
       "15021"
      ]
     },
     "execution_count": 4,
     "metadata": {},
     "output_type": "execute_result"
    }
   ],
   "source": [
    "df."
   ]
  },
  {
   "cell_type": "markdown",
   "id": "a7c7773e-74d1-423b-a677-8bc01ce02565",
   "metadata": {},
   "source": [
    "# Data Explorations"
   ]
  },
  {
   "cell_type": "code",
   "execution_count": null,
   "id": "7477fcde-5a3f-4666-8f88-21f8d9758b54",
   "metadata": {
    "tags": []
   },
   "outputs": [],
   "source": [
    "df.head() # Getting a quick view of dataset"
   ]
  },
  {
   "cell_type": "code",
   "execution_count": null,
   "id": "89749d6a-e7b8-4ffe-9d17-f1edb85ff97b",
   "metadata": {
    "tags": []
   },
   "outputs": [],
   "source": [
    "df.shape # Checking no of rows and columns"
   ]
  },
  {
   "cell_type": "code",
   "execution_count": null,
   "id": "d4df99a5-439c-4fa9-bdec-aaaacb9ae9e4",
   "metadata": {
    "tags": []
   },
   "outputs": [],
   "source": [
    "pd.set_option('display.max_columns',27) # Setting view option for max column display"
   ]
  },
  {
   "cell_type": "code",
   "execution_count": null,
   "id": "24d17094-21c3-483c-83aa-c0115e9e892a",
   "metadata": {
    "tags": []
   },
   "outputs": [],
   "source": [
    "df.head() # Once Again Getting view after setting view of max column"
   ]
  },
  {
   "cell_type": "code",
   "execution_count": null,
   "id": "4e77ce0f-f43e-4226-89b5-df857795bb6c",
   "metadata": {
    "tags": []
   },
   "outputs": [],
   "source": [
    "df.info() # Checking all columns and their data type"
   ]
  },
  {
   "cell_type": "code",
   "execution_count": null,
   "id": "0a0b66ba-d21a-4697-95e2-2dfc8d4f8112",
   "metadata": {
    "tags": []
   },
   "outputs": [],
   "source": [
    "df.describe()"
   ]
  },
  {
   "cell_type": "code",
   "execution_count": null,
   "id": "6d032ab9-f9ed-4b31-b947-e23d8f3a0dfa",
   "metadata": {
    "tags": []
   },
   "outputs": [],
   "source": [
    "df.isnull().sum()"
   ]
  },
  {
   "cell_type": "code",
   "execution_count": null,
   "id": "8201433e-c086-42db-aaea-fce3574d3cab",
   "metadata": {
    "tags": []
   },
   "outputs": [],
   "source": [
    "df.duplicated().sum() # Checking for Duplicates"
   ]
  },
  {
   "cell_type": "markdown",
   "id": "6cf46e84-04e0-4456-9ee9-4e014580ec97",
   "metadata": {},
   "source": [
    "# Data Cleaning "
   ]
  },
  {
   "cell_type": "code",
   "execution_count": null,
   "id": "81b90e12-1da8-4bc0-a5a3-ef4aff2949f7",
   "metadata": {
    "tags": []
   },
   "outputs": [],
   "source": [
    "df.drop_duplicates(inplace = True) # Removing duplicates from DataFrame, Inplace = True means to create permanent change in Dataframe."
   ]
  },
  {
   "cell_type": "code",
   "execution_count": null,
   "id": "7535fc4f-29db-4903-bd7f-21323b14447c",
   "metadata": {
    "tags": []
   },
   "outputs": [],
   "source": [
    "df.head(10)"
   ]
  },
  {
   "cell_type": "code",
   "execution_count": null,
   "id": "5f9ad1eb-9b01-4ef0-9ee8-52504ba992db",
   "metadata": {
    "tags": []
   },
   "outputs": [],
   "source": [
    "df.isnull().sum() # checking for null after removing duplicates"
   ]
  },
  {
   "cell_type": "markdown",
   "id": "3d158e5e-b723-4cb4-8ea6-78b1568979a1",
   "metadata": {},
   "source": [
    "Drop Columns and Rearrange them  and save them"
   ]
  },
  {
   "cell_type": "code",
   "execution_count": null,
   "id": "d696616b-3824-4624-807b-c1e6bc1fb26f",
   "metadata": {},
   "outputs": [],
   "source": [
    "columns_to_drop = ['menu_url','switch_to_order_menu','offers' ,'rating_color','latitude','longitude','address',\n",
    "                   'locality_verbose','city_id','zipcode','locality','Country','id']"
   ]
  },
  {
   "cell_type": "code",
   "execution_count": null,
   "id": "faa89436-390d-498b-b741-c82c3ccba5f5",
   "metadata": {
    "tags": []
   },
   "outputs": [],
   "source": [
    "df.drop(columns=columns_to_drop ,axis = 1, inplace = True)"
   ]
  },
  {
   "cell_type": "code",
   "execution_count": null,
   "id": "51b41074-3045-458a-9792-3de77fbbff57",
   "metadata": {
    "tags": []
   },
   "outputs": [],
   "source": [
    "df"
   ]
  },
  {
   "cell_type": "code",
   "execution_count": null,
   "id": "80136116-b073-4712-9f6d-df3964221160",
   "metadata": {
    "tags": []
   },
   "outputs": [],
   "source": [
    "df.info()"
   ]
  },
  {
   "cell_type": "code",
   "execution_count": null,
   "id": "dbac069f-fd87-498c-bd8e-27ba95cbbd9d",
   "metadata": {
    "tags": []
   },
   "outputs": [],
   "source": [
    "Rename_columns = {'has_online_delivery':'Online_Delivery','price_range':'Price_Range','name':'Eatery_Name','cuisines':'Cuisines',\n",
    "                  'is_delivering_now':'Deliverying_Available','average_cost_for_two': 'Average_Cost_For_Two','has_table_booking':'Table_Booking_Available','currency':'Currency',\n",
    "                 'rating_text':'Rating_Text','votes':'Votes','aggregate_rating':'Aggregate_Rating','city':'City',\n",
    "                  'Country Code':'Country_Code','res_id':'Eatery_Id' }"
   ]
  },
  {
   "cell_type": "code",
   "execution_count": null,
   "id": "9da3a07f-003a-4f52-80af-4418c67614cb",
   "metadata": {
    "tags": []
   },
   "outputs": [],
   "source": [
    "df.rename(columns = Rename_columns,inplace = True )"
   ]
  },
  {
   "cell_type": "code",
   "execution_count": null,
   "id": "df947ccf-35e7-4b38-9937-16ce4c08648f",
   "metadata": {
    "tags": []
   },
   "outputs": [],
   "source": [
    "df"
   ]
  },
  {
   "cell_type": "code",
   "execution_count": 5,
   "id": "2b5008a4-5339-40ae-80ff-3c1ddd313126",
   "metadata": {
    "tags": []
   },
   "outputs": [
    {
     "data": {
      "text/plain": [
       "has_online_delivery        2\n",
       "price_range                4\n",
       "name                    7469\n",
       "cuisines                1834\n",
       "is_delivering_now          2\n",
       "menu_url                9577\n",
       "average_cost_for_two     140\n",
       "switch_to_order_menu       1\n",
       "offers                    52\n",
       "has_table_booking          2\n",
       "currency                  12\n",
       "id                      9577\n",
       "rating_text                6\n",
       "rating_color               8\n",
       "votes                   1014\n",
       "aggregate_rating          33\n",
       "latitude                8685\n",
       "address                 8944\n",
       "city                     142\n",
       "Country Code              16\n",
       "locality_verbose        1281\n",
       "city_id                  123\n",
       "zipcode                  465\n",
       "longitude               8128\n",
       "locality                1221\n",
       "res_id                  9577\n",
       "Country                   15\n",
       "dtype: int64"
      ]
     },
     "execution_count": 5,
     "metadata": {},
     "output_type": "execute_result"
    }
   ],
   "source": [
    "df.nunique()"
   ]
  },
  {
   "cell_type": "code",
   "execution_count": null,
   "id": "e26829e3-c5fe-4552-9ef0-8a15f297be51",
   "metadata": {
    "tags": []
   },
   "outputs": [],
   "source": [
    "df.count()"
   ]
  },
  {
   "cell_type": "code",
   "execution_count": null,
   "id": "204f2759-de01-4067-94ed-681eb4c79b3a",
   "metadata": {
    "tags": []
   },
   "outputs": [],
   "source": [
    "df.duplicated().sum()"
   ]
  },
  {
   "cell_type": "code",
   "execution_count": null,
   "id": "cdd3b28d-cde0-447b-bc59-a412a323052e",
   "metadata": {
    "tags": []
   },
   "outputs": [],
   "source": [
    "df['Cuisines'].value_counts().sum()"
   ]
  },
  {
   "cell_type": "code",
   "execution_count": null,
   "id": "c81653d9-a323-467d-8ca6-39d6494140a6",
   "metadata": {},
   "outputs": [],
   "source": [
    "df['Cuisines']"
   ]
  },
  {
   "cell_type": "code",
   "execution_count": null,
   "id": "c52222ed-e846-44cf-8241-ac633ad1b3de",
   "metadata": {
    "tags": []
   },
   "outputs": [],
   "source": [
    "# Check percentage of missing data in the 'cuisines' column\n",
    "missing_percentage = df['Cuisines'].isnull().mean() * 100\n",
    "print(f\"Missing cuisines: {missing_percentage:.2f}%\")"
   ]
  },
  {
   "cell_type": "code",
   "execution_count": null,
   "id": "6f267a32-8d43-4628-8c2f-eb7c8901c193",
   "metadata": {
    "tags": []
   },
   "outputs": [],
   "source": [
    "df.dropna(subset=['Cuisines'],inplace =True)"
   ]
  },
  {
   "cell_type": "code",
   "execution_count": null,
   "id": "6a19c083-fbfb-475b-b85b-6f3aceda4f7c",
   "metadata": {
    "tags": []
   },
   "outputs": [],
   "source": [
    "df.count()"
   ]
  },
  {
   "cell_type": "code",
   "execution_count": null,
   "id": "0e4539ca-f70b-4718-a834-6244b8b378dc",
   "metadata": {
    "tags": []
   },
   "outputs": [],
   "source": [
    "df.isna().sum()"
   ]
  },
  {
   "cell_type": "code",
   "execution_count": null,
   "id": "356c87c1-43ef-4575-980b-fe174ca2cb7c",
   "metadata": {
    "tags": []
   },
   "outputs": [],
   "source": [
    "df['City'].sort_values(ascending = True).unique()"
   ]
  },
  {
   "cell_type": "code",
   "execution_count": null,
   "id": "073b7a13-2b01-4407-af38-969cfc21953c",
   "metadata": {
    "tags": []
   },
   "outputs": [],
   "source": [
    "# Count the number of rows where 'Cuisines' is 'Dummy'\n",
    "count_dummy = (df['Cuisines'] == 'Dummy').sum()\n",
    "print(f\"Number of rows with 'Dummy' in Cuisines: {count_dummy}\")"
   ]
  },
  {
   "cell_type": "code",
   "execution_count": null,
   "id": "aabf8945-2496-4af4-a6a3-f97f836af4d3",
   "metadata": {
    "tags": []
   },
   "outputs": [],
   "source": [
    "df.drop(df[df['Cuisines']=='Dummy'].index, inplace =True)"
   ]
  },
  {
   "cell_type": "code",
   "execution_count": null,
   "id": "50249ac5-fdbe-4bd8-a9f8-766879c89edb",
   "metadata": {
    "tags": []
   },
   "outputs": [],
   "source": [
    "df.dropna(subset=['Currency'],inplace =True)"
   ]
  },
  {
   "cell_type": "code",
   "execution_count": 45,
   "id": "9ae6d847-a9b6-425b-b733-1875a82522bb",
   "metadata": {
    "tags": []
   },
   "outputs": [
    {
     "data": {
      "text/plain": [
       "Currency\n",
       "Rs.    8663\n",
       "$       473\n",
       "£        80\n",
       "AED      60\n",
       "R        60\n",
       "R$       60\n",
       "TL       40\n",
       "NZ$      40\n",
       "P        22\n",
       "IDR      21\n",
       "LKR      20\n",
       "QR       20\n",
       "Name: count, dtype: int64"
      ]
     },
     "execution_count": 45,
     "metadata": {},
     "output_type": "execute_result"
    }
   ],
   "source": [
    "df['Currency'].value_counts()"
   ]
  },
  {
   "cell_type": "code",
   "execution_count": null,
   "id": "b464f743-8537-425b-8e02-afa7f3c1ddd6",
   "metadata": {
    "tags": []
   },
   "outputs": [],
   "source": [
    "df.count()"
   ]
  },
  {
   "cell_type": "code",
   "execution_count": null,
   "id": "18d61498-dc73-45f1-adcd-c056af55e349",
   "metadata": {
    "tags": []
   },
   "outputs": [],
   "source": [
    "df_cuisines = df.assign(Cuisines=df['Cuisines'].str.split(', ')).explode('Cuisines')\n",
    "df_cuisines.to_csv('normalized_zomato_data.csv', index=False)\n"
   ]
  },
  {
   "cell_type": "code",
   "execution_count": 2,
   "id": "373d4a96-0f79-44f8-9325-fd631d995bbf",
   "metadata": {
    "tags": []
   },
   "outputs": [],
   "source": [
    "new_df = pd.read_csv('normalized_zomato_data.csv')"
   ]
  },
  {
   "cell_type": "code",
   "execution_count": null,
   "id": "5ef6ae8f-aa5e-42b7-8fec-bf30bde881c8",
   "metadata": {
    "tags": []
   },
   "outputs": [],
   "source": [
    "new_df.count()"
   ]
  },
  {
   "cell_type": "code",
   "execution_count": null,
   "id": "c9b1c669-7d23-4058-bf9a-721ee1a3229c",
   "metadata": {
    "tags": []
   },
   "outputs": [],
   "source": [
    "column_names = df.columns\n",
    "print(column_names)"
   ]
  },
  {
   "cell_type": "code",
   "execution_count": null,
   "id": "a7a97bde-14d9-413e-a444-7627a8ae2d46",
   "metadata": {
    "tags": []
   },
   "outputs": [],
   "source": [
    "ordered_columns = [\n",
    "    'Eatery_Id',\n",
    "    'Eatery_Name',\n",
    "    'City',\n",
    "    'Country_Code',\n",
    "    'Cuisines',\n",
    "    'Price_Range',\n",
    "    'Average_Cost_For_Two',\n",
    "    'Online_Delivery',\n",
    "    'Deliverying_Available',\n",
    "    'Table_Booking_Available',\n",
    "    'Aggregate_Rating',\n",
    "    'Rating_Text',\n",
    "    'Votes',\n",
    "    'Currency'\n",
    "]"
   ]
  },
  {
   "cell_type": "code",
   "execution_count": null,
   "id": "f74dcfe0-f615-410f-9467-368808053866",
   "metadata": {
    "tags": []
   },
   "outputs": [],
   "source": [
    "new_df= new_df[ordered_columns]"
   ]
  },
  {
   "cell_type": "code",
   "execution_count": null,
   "id": "6ec24522-d6c3-4106-83b9-223620dd7531",
   "metadata": {
    "tags": []
   },
   "outputs": [],
   "source": [
    "new_df"
   ]
  },
  {
   "cell_type": "code",
   "execution_count": null,
   "id": "b42a95bb-f468-4c6d-88fd-a76558c6e3a3",
   "metadata": {
    "tags": []
   },
   "outputs": [],
   "source": [
    "new_df.to_csv('normalized_zomato_data.csv',index = False)"
   ]
  },
  {
   "cell_type": "code",
   "execution_count": null,
   "id": "3b58e513-0e3f-4f99-93a6-b35ce946c509",
   "metadata": {},
   "outputs": [],
   "source": [
    "new_df = pd.read_csv('normalized_zomato_data.csv')"
   ]
  },
  {
   "cell_type": "code",
   "execution_count": null,
   "id": "fd64570b",
   "metadata": {
    "tags": []
   },
   "outputs": [],
   "source": [
    "new_df.nunique"
   ]
  },
  {
   "cell_type": "code",
   "execution_count": 3,
   "id": "d1f6afb2-fb6f-4fba-a706-f5ed2e6b405b",
   "metadata": {
    "tags": []
   },
   "outputs": [
    {
     "data": {
      "text/plain": [
       "0          308322\n",
       "1          308322\n",
       "2          308322\n",
       "3          308322\n",
       "4        18037817\n",
       "           ...   \n",
       "19740    17582668\n",
       "19741    17582498\n",
       "19742    17582498\n",
       "19743    17582499\n",
       "19744    17582499\n",
       "Name: Eatery_Id, Length: 19745, dtype: int64"
      ]
     },
     "execution_count": 3,
     "metadata": {},
     "output_type": "execute_result"
    }
   ],
   "source": [
    "new_df['Eatery_Id']"
   ]
  }
 ],
 "metadata": {
  "kernelspec": {
   "display_name": "Python 3 (ipykernel)",
   "language": "python",
   "name": "python3"
  },
  "language_info": {
   "codemirror_mode": {
    "name": "ipython",
    "version": 3
   },
   "file_extension": ".py",
   "mimetype": "text/x-python",
   "name": "python",
   "nbconvert_exporter": "python",
   "pygments_lexer": "ipython3",
   "version": "3.11.5"
  }
 },
 "nbformat": 4,
 "nbformat_minor": 5
}
